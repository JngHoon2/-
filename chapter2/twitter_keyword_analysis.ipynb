{
 "metadata": {
  "language_info": {
   "codemirror_mode": {
    "name": "ipython",
    "version": 3
   },
   "file_extension": ".py",
   "mimetype": "text/x-python",
   "name": "python",
   "nbconvert_exporter": "python",
   "pygments_lexer": "ipython3",
   "version": "3.8.5-final"
  },
  "orig_nbformat": 2,
  "kernelspec": {
   "name": "python3",
   "display_name": "Python 3.8.5 64-bit ('pybook': conda)",
   "metadata": {
    "interpreter": {
     "hash": "3b9be8f8e159b75a0d4698d328b30a6464d89f5eac7e0620b950e8b6e2d6af91"
    }
   }
  }
 },
 "nbformat": 4,
 "nbformat_minor": 2,
 "cells": [
  {
   "cell_type": "code",
   "execution_count": 1,
   "metadata": {},
   "outputs": [
    {
     "output_type": "stream",
     "name": "stdout",
     "text": [
      "[{'screen_name': 'OhmyNews_Korea', 'name': '오마이뉴스', 'id': 56970775, 'id_str': '56970775', 'indices': [3, 18]}]\n[{'text': '토트넘', 'indices': [49, 53]}, {'text': '무리뉴2년차', 'indices': [54, 61]}, {'text': '손흥민', 'indices': [62, 66]}]\nRT @OhmyNews_Korea: 모리뉴 2년차 공식, 토트넘에선 잘 안 통하는 이유 #토트넘 #무리뉴2년차 #손흥민 https://t.co/HZ5kdaeNeX 이준목 기자\n[]\n[{'text': '케인', 'indices': [14, 17]}, {'text': '손흥민', 'indices': [24, 28]}]\n&lt;해외축구&gt; '#케인 부상'.. #손흥민 다시 원톱?\n29일 새벽(한국시간) 리버풀전에서 해리 케인이 발목부상으로 교체된 뒤, 최소 몇 주간 결장이 예상됨에 따라 손흥민의 어깨가 무거워졌다. 베일도 제 컨디… https://t.co/RrDSgcgbGs\n[{'screen_name': 'sonnyy07', 'name': '갸악', 'id': 1512500641, 'id_str': '1512500641', 'indices': [3, 12]}]\n[]\nRT @sonnyy07: 선수단 정리 안할거면 그냥 손흥민이 정리당하자\n[{'screen_name': 'Spurs_KR', 'name': 'Tottenham Hotspur 🇰🇷', 'id': 1341708258818584576, 'id_str': '1341708258818584576', 'indices': [3, 12]}]\n[{'text': 'THFC', 'indices': [47, 52]}, {'text': 'LFC', 'indices': [57, 61]}]\nRT @Spurs_KR: 4 - 손흥민 선수의 골이 오프사이드로 취소됩니다.\n\n⚪️ #THFC 0-0 #LFC 🔴\n[]\n[{'text': '손흥민', 'indices': [14, 18]}]\n&lt;해외축구&gt; '#손흥민 골취' 토트넘, 또 리버풀 징크스!\n토트넘이 또 리버풀에 패했다. 29일 새벽(한국시간) EPL 20라운드 홈경기에서 손흥민이 3분만에 선취골을 기록했지만 VAR 끝에 오프사이드로 판… https://t.co/qoQ7C0dUd6\n[]\n[]\nVAR 사라진 손흥민 13호골, 케인 부상···토트넘 악몽의 밤 https://t.co/4VOU5M0LKX\n[{'screen_name': 'TBTFL_Chief', 'name': '이원채', 'id': 1203437522392473600, 'id_str': '1203437522392473600', 'indices': [3, 15]}]\n[{'text': '이용의리즈시절', 'indices': [36, 44]}, {'text': '윌리엄힐', 'indices': [66, 71]}, {'text': '베트맨', 'indices': [133, 137]}]\nRT @TBTFL_Chief: 아무래도 이 기사를 작성하신 분은 #이용의리즈시절 시청자겠죠?\n\n어쨌든 이 기사를 보고 #윌리엄힐 가입에 관심이 생기신다해도, 절대로 해외 사이트에서 베팅하시면 안됩니다. 대한민국 유일의 합법 베팅 사이트는 #베트맨 입…\n[{'screen_name': 'Spurs_KR', 'name': 'Tottenham Hotspur 🇰🇷', 'id': 1341708258818584576, 'id_str': '1341708258818584576', 'indices': [3, 12]}]\n[{'text': '손흥민', 'indices': [74, 78]}]\nRT @Spurs_KR: 📣 한국 계정에서만 알려드립니다!\n\n오늘 경기에서 LED 전광판을 주목해 주세요👀 트위터에서 사용되고 있는 #손흥민 선수의 이모티콘이 나온다고 합니다!\n\n경기를 보시다가 이모티콘이 나오면 누구보다 빠르게 📸 촬영하셔서 인증샷…\n[]\n[{'text': '토트넘', 'indices': [29, 33]}, {'text': '무리뉴2년차', 'indices': [34, 41]}, {'text': '손흥민', 'indices': [42, 46]}]\n모리뉴 2년차 공식, 토트넘에선 잘 안 통하는 이유 #토트넘 #무리뉴2년차 #손흥민 https://t.co/HZ5kdaeNeX 이준목 기자\n[]\n[]\n손흥민골 - 토트넘 리버풀 VAR취소.gif 리버풀 골.gif  https://t.co/tROfmTmXn9\n[]\n[{'text': '손흥민', 'indices': [13, 17]}]\n케인 빠지면서 고립됐던 #손흥민, 후반 슈팅 0… \"힘든 밤 보냈다\" https://t.co/lsi8D10gGF\n[]\n[]\n오늘 엣킨슨 활약\n: 골키퍼 핸들 NO퇴장\n: 티아구 NO카드\n: 손흥민 골 취소\n"
     ]
    }
   ],
   "source": [
    "import tweepy\n",
    "\n",
    "CONSUMER_KEY = 'WyxZDpvjWWU4jnQQcOGP1xF2W'\n",
    "CONSUMER_SECRET = 'QJgWy5TKnzi1ZNPV1pPP43WFqWQarOoYx9cJvsMpCMUOKAl6w8'\n",
    "ACCESS_KEY = '1289030552058642432-VbXCoCQ68vcnGWCmoFQcMxilBDtmnr'\n",
    "ACCESS_SECRET = 'hkYGBfyrFFQxEGgEituNIHL0vsmtl45Q8OSfrudAjZW6g'\n",
    "\n",
    "auth = tweepy.OAuthHandler(CONSUMER_KEY, CONSUMER_SECRET)\n",
    "auth.set_access_token(ACCESS_KEY, ACCESS_SECRET)\n",
    "\n",
    "api = tweepy.API(auth)\n",
    "\n",
    "keyword = '손흥민'\n",
    "tweets = api.search(keyword)\n",
    "for tweet in tweets:\n",
    "    print(tweet.entities['user_mentions'])\n",
    "    print(tweet.entities['hashtags'])\n",
    "    print(tweet.text)"
   ]
  },
  {
   "cell_type": "code",
   "execution_count": 4,
   "metadata": {},
   "outputs": [
    {
     "output_type": "stream",
     "name": "stdout",
     "text": [
      "Get Data 1.0 % complete..\n",
      "Get Data 2.0 % complete..\n",
      "Get Data 3.0 % complete..\n",
      "Get Data 4.0 % complete..\n",
      "Get Data 5.0 % complete..\n",
      "Get Data 6.0 % complete..\n",
      "Get Data 7.000000000000001 % complete..\n",
      "Get Data 8.0 % complete..\n",
      "Get Data 9.0 % complete..\n",
      "Get Data 10.0 % complete..\n",
      "Get Data 11.0 % complete..\n",
      "Get Data 12.0 % complete..\n",
      "Get Data 13.0 % complete..\n",
      "Get Data 14.000000000000002 % complete..\n",
      "Get Data 15.0 % complete..\n",
      "Get Data 16.0 % complete..\n",
      "Get Data 17.0 % complete..\n",
      "Get Data 18.0 % complete..\n",
      "Get Data 19.0 % complete..\n",
      "Get Data 20.0 % complete..\n",
      "Get Data 21.0 % complete..\n",
      "Get Data 22.0 % complete..\n",
      "Get Data 23.0 % complete..\n",
      "Get Data 24.0 % complete..\n",
      "Get Data 25.0 % complete..\n",
      "Get Data 26.0 % complete..\n",
      "Get Data 27.0 % complete..\n",
      "Get Data 28.000000000000004 % complete..\n",
      "Get Data 28.999999999999996 % complete..\n",
      "Get Data 30.0 % complete..\n",
      "Get Data 31.0 % complete..\n",
      "Get Data 32.0 % complete..\n",
      "Get Data 33.0 % complete..\n",
      "Get Data 34.0 % complete..\n",
      "Get Data 35.0 % complete..\n",
      "Get Data 36.0 % complete..\n",
      "Get Data 37.0 % complete..\n",
      "Get Data 38.0 % complete..\n",
      "Get Data 39.0 % complete..\n",
      "Get Data 40.0 % complete..\n",
      "Get Data 41.0 % complete..\n",
      "Get Data 42.0 % complete..\n",
      "Get Data 43.0 % complete..\n",
      "Get Data 44.0 % complete..\n",
      "Get Data 45.0 % complete..\n",
      "Get Data 46.0 % complete..\n",
      "Get Data 47.0 % complete..\n",
      "Get Data 48.0 % complete..\n",
      "Get Data 49.0 % complete..\n",
      "Get Data 50.0 % complete..\n",
      "Get Data 51.0 % complete..\n",
      "Get Data 52.0 % complete..\n",
      "Get Data 53.0 % complete..\n",
      "Get Data 54.0 % complete..\n",
      "Get Data 55.00000000000001 % complete..\n",
      "Get Data 56.00000000000001 % complete..\n",
      "Get Data 56.99999999999999 % complete..\n",
      "Get Data 57.99999999999999 % complete..\n",
      "Get Data 59.0 % complete..\n",
      "Get Data 60.0 % complete..\n",
      "Get Data 61.0 % complete..\n",
      "Get Data 62.0 % complete..\n",
      "Get Data 63.0 % complete..\n",
      "Get Data 64.0 % complete..\n",
      "Get Data 65.0 % complete..\n",
      "Get Data 66.0 % complete..\n",
      "Get Data 67.0 % complete..\n",
      "Get Data 68.0 % complete..\n",
      "Get Data 69.0 % complete..\n",
      "Get Data 70.0 % complete..\n",
      "Get Data 71.0 % complete..\n",
      "Get Data 72.0 % complete..\n",
      "Get Data 73.0 % complete..\n",
      "Get Data 74.0 % complete..\n",
      "Get Data 75.0 % complete..\n",
      "Get Data 76.0 % complete..\n",
      "Get Data 77.0 % complete..\n",
      "Get Data 78.0 % complete..\n",
      "Get Data 79.0 % complete..\n",
      "Get Data 80.0 % complete..\n",
      "Get Data 81.0 % complete..\n",
      "Get Data 82.0 % complete..\n",
      "Get Data 83.0 % complete..\n",
      "Get Data 84.0 % complete..\n",
      "Get Data 85.0 % complete..\n",
      "Get Data 86.0 % complete..\n",
      "Get Data 87.0 % complete..\n",
      "Get Data 88.0 % complete..\n",
      "Get Data 89.0 % complete..\n",
      "Get Data 90.0 % complete..\n",
      "Get Data 91.0 % complete..\n",
      "Get Data 92.0 % complete..\n",
      "Get Data 93.0 % complete..\n",
      "Get Data 94.0 % complete..\n",
      "Get Data 95.0 % complete..\n",
      "Get Data 96.0 % complete..\n",
      "Get Data 97.0 % complete..\n",
      "Get Data 98.0 % complete..\n",
      "Get Data 99.0 % complete..\n",
      "Get Data 100% complete!\n"
     ]
    },
    {
     "output_type": "execute_result",
     "data": {
      "text/plain": [
       "              created                                         tweet_text\n",
       "0 2021-02-01 12:31:41  RT @Park_Youngsun: &lt;보유국&gt;\\n뉴스보니 ‘보유국’이 뜨거...\n",
       "1 2021-02-01 12:31:28  RT @toshoiii: @hukbaeg2 무슨 손흥민은 사실 중국의 자손이다 그런...\n",
       "2 2021-02-01 12:24:34  부산\\n동영상\\n스타킹축구\\n마사지 \\n인천\\n축구선수\\n아줌마\\n대구\\n소개팅\\n...\n",
       "3 2021-02-01 12:20:47  부산\\n동영상\\n스타킹축구\\n마사지 \\n인천\\n축구선수\\n아줌마\\n대구\\n소개팅\\n...\n",
       "4 2021-02-01 12:15:36  #축구 #축구트친소 #국대트친소 #축덕 #축구덕질 #축구굿즈 #국대 #손흥민 #이승..."
      ],
      "text/html": "<div>\n<style scoped>\n    .dataframe tbody tr th:only-of-type {\n        vertical-align: middle;\n    }\n\n    .dataframe tbody tr th {\n        vertical-align: top;\n    }\n\n    .dataframe thead th {\n        text-align: right;\n    }\n</style>\n<table border=\"1\" class=\"dataframe\">\n  <thead>\n    <tr style=\"text-align: right;\">\n      <th></th>\n      <th>created</th>\n      <th>tweet_text</th>\n    </tr>\n  </thead>\n  <tbody>\n    <tr>\n      <th>0</th>\n      <td>2021-02-01 12:31:41</td>\n      <td>RT @Park_Youngsun: &amp;lt;보유국&amp;gt;\\n뉴스보니 ‘보유국’이 뜨거...</td>\n    </tr>\n    <tr>\n      <th>1</th>\n      <td>2021-02-01 12:31:28</td>\n      <td>RT @toshoiii: @hukbaeg2 무슨 손흥민은 사실 중국의 자손이다 그런...</td>\n    </tr>\n    <tr>\n      <th>2</th>\n      <td>2021-02-01 12:24:34</td>\n      <td>부산\\n동영상\\n스타킹축구\\n마사지 \\n인천\\n축구선수\\n아줌마\\n대구\\n소개팅\\n...</td>\n    </tr>\n    <tr>\n      <th>3</th>\n      <td>2021-02-01 12:20:47</td>\n      <td>부산\\n동영상\\n스타킹축구\\n마사지 \\n인천\\n축구선수\\n아줌마\\n대구\\n소개팅\\n...</td>\n    </tr>\n    <tr>\n      <th>4</th>\n      <td>2021-02-01 12:15:36</td>\n      <td>#축구 #축구트친소 #국대트친소 #축덕 #축구덕질 #축구굿즈 #국대 #손흥민 #이승...</td>\n    </tr>\n  </tbody>\n</table>\n</div>"
     },
     "metadata": {},
     "execution_count": 4
    }
   ],
   "source": [
    "import pandas as pd\n",
    "import numpy as np\n",
    "import matplotlib.pyplot as plt\n",
    "import tweepy\n",
    "\n",
    "# 발급된 키\n",
    "CONSUMER_KEY = 'WyxZDpvjWWU4jnQQcOGP1xF2W'\n",
    "CONSUMER_SECRET = 'QJgWy5TKnzi1ZNPV1pPP43WFqWQarOoYx9cJvsMpCMUOKAl6w8'\n",
    "ACCESS_KEY = '1289030552058642432-VbXCoCQ68vcnGWCmoFQcMxilBDtmnr'\n",
    "ACCESS_SECRET = 'hkYGBfyrFFQxEGgEituNIHL0vsmtl45Q8OSfrudAjZW6g'\n",
    "\n",
    "# 개인 정보를 인증하고 요청을 수행합니다.\n",
    "auth = tweepy.OAuthHandler(CONSUMER_KEY, CONSUMER_SECRET)\n",
    "auth.set_access_token(ACCESS_KEY, ACCESS_SECRET)\n",
    "\n",
    "# API를 사용하기 위한 준비\n",
    "api = tweepy.API(auth)\n",
    "\n",
    "# 크롤링된 데이터를 저장할 데이터 프레임\n",
    "keyword = '손흥민'\n",
    "columns = ['created', 'tweet_text']\n",
    "df = pd.DataFrame(columns = columns)\n",
    "\n",
    "# 트위터 API를 이용하여 '손흥민'이 포함된 100페이의 트윗들을 크롤링하고 정보를 데이터프레임에 저장합니다.\n",
    "for i in range(1, 100):\n",
    "    print('Get Data', str(i/100*100), '% complete..')\n",
    "    tweets = api.search(keyword)\n",
    "    for tweet in tweets:\n",
    "        tweet_text = tweet.text\n",
    "        created = tweet.created_at\n",
    "        row = [created, tweet_text]\n",
    "        series = pd.Series(row, index = df.columns)\n",
    "        df = df.append(series, ignore_index = True)\n",
    "print('Get Data 100% complete!')\n",
    "df.head()"
   ]
  },
  {
   "cell_type": "code",
   "execution_count": 5,
   "metadata": {},
   "outputs": [
    {
     "output_type": "execute_result",
     "data": {
      "text/plain": [
       "              created                                         tweet_text  \\\n",
       "0 2021-02-01 12:31:41  RT @Park_Youngsun: &lt;보유국&gt;\\n뉴스보니 ‘보유국’이 뜨거...   \n",
       "1 2021-02-01 12:31:28  RT @toshoiii: @hukbaeg2 무슨 손흥민은 사실 중국의 자손이다 그런...   \n",
       "2 2021-02-01 12:24:34  부산\\n동영상\\n스타킹축구\\n마사지 \\n인천\\n축구선수\\n아줌마\\n대구\\n소개팅\\n...   \n",
       "3 2021-02-01 12:20:47  부산\\n동영상\\n스타킹축구\\n마사지 \\n인천\\n축구선수\\n아줌마\\n대구\\n소개팅\\n...   \n",
       "4 2021-02-01 12:15:36  #축구 #축구트친소 #국대트친소 #축덕 #축구덕질 #축구굿즈 #국대 #손흥민 #이승...   \n",
       "\n",
       "                                             ko_text  \n",
       "0    보유국뉴스보니 보유국이 뜨거웠네요국민 시민 한분 한분 보유국손흥민김연아류현진봉준...  \n",
       "1                  무슨 손흥민은 사실 중국의 자손이다 그런 주장을 했었더라고요  \n",
       "2  부산동영상스타킹축구마사지 인천축구선수아줌마대구소개팅마산만남앱만남어플경주야동울산딸딸이...  \n",
       "3  부산동영상스타킹축구마사지 인천축구선수아줌마대구소개팅마산만남앱만남어플경주야동울산딸딸이...  \n",
       "4  축구 축구트친소 국대트친소 축덕 축구덕질 축구굿즈 국대 손흥민 이승우 이강인 황의조...  "
      ],
      "text/html": "<div>\n<style scoped>\n    .dataframe tbody tr th:only-of-type {\n        vertical-align: middle;\n    }\n\n    .dataframe tbody tr th {\n        vertical-align: top;\n    }\n\n    .dataframe thead th {\n        text-align: right;\n    }\n</style>\n<table border=\"1\" class=\"dataframe\">\n  <thead>\n    <tr style=\"text-align: right;\">\n      <th></th>\n      <th>created</th>\n      <th>tweet_text</th>\n      <th>ko_text</th>\n    </tr>\n  </thead>\n  <tbody>\n    <tr>\n      <th>0</th>\n      <td>2021-02-01 12:31:41</td>\n      <td>RT @Park_Youngsun: &amp;lt;보유국&amp;gt;\\n뉴스보니 ‘보유국’이 뜨거...</td>\n      <td>보유국뉴스보니 보유국이 뜨거웠네요국민 시민 한분 한분 보유국손흥민김연아류현진봉준...</td>\n    </tr>\n    <tr>\n      <th>1</th>\n      <td>2021-02-01 12:31:28</td>\n      <td>RT @toshoiii: @hukbaeg2 무슨 손흥민은 사실 중국의 자손이다 그런...</td>\n      <td>무슨 손흥민은 사실 중국의 자손이다 그런 주장을 했었더라고요</td>\n    </tr>\n    <tr>\n      <th>2</th>\n      <td>2021-02-01 12:24:34</td>\n      <td>부산\\n동영상\\n스타킹축구\\n마사지 \\n인천\\n축구선수\\n아줌마\\n대구\\n소개팅\\n...</td>\n      <td>부산동영상스타킹축구마사지 인천축구선수아줌마대구소개팅마산만남앱만남어플경주야동울산딸딸이...</td>\n    </tr>\n    <tr>\n      <th>3</th>\n      <td>2021-02-01 12:20:47</td>\n      <td>부산\\n동영상\\n스타킹축구\\n마사지 \\n인천\\n축구선수\\n아줌마\\n대구\\n소개팅\\n...</td>\n      <td>부산동영상스타킹축구마사지 인천축구선수아줌마대구소개팅마산만남앱만남어플경주야동울산딸딸이...</td>\n    </tr>\n    <tr>\n      <th>4</th>\n      <td>2021-02-01 12:15:36</td>\n      <td>#축구 #축구트친소 #국대트친소 #축덕 #축구덕질 #축구굿즈 #국대 #손흥민 #이승...</td>\n      <td>축구 축구트친소 국대트친소 축덕 축구덕질 축구굿즈 국대 손흥민 이승우 이강인 황의조...</td>\n    </tr>\n  </tbody>\n</table>\n</div>"
     },
     "metadata": {},
     "execution_count": 5
    }
   ],
   "source": [
    "import re\n",
    "\n",
    "#텍스트 정제 함수(한글 이외의 문자는 전부 제거)\n",
    "\n",
    "def text_cleaning(text):\n",
    "    hangul = re.compile('[^ ㄱ-ㅣ 가-힣]+') #한글 정규표현식\n",
    "    result = hangul.sub('', text)\n",
    "    return result\n",
    "\n",
    "df['ko_text'] = df['tweet_text'].apply(lambda x : text_cleaning(x))\n",
    "df.head()"
   ]
  },
  {
   "cell_type": "code",
   "execution_count": 8,
   "metadata": {},
   "outputs": [
    {
     "output_type": "stream",
     "name": "stdout",
     "text": [
      "(1485, 4)\n"
     ]
    },
    {
     "output_type": "execute_result",
     "data": {
      "text/plain": [
       "              created                                         tweet_text  \\\n",
       "0 2021-02-01 12:31:41  RT @Park_Youngsun: &lt;보유국&gt;\\n뉴스보니 ‘보유국’이 뜨거...   \n",
       "1 2021-02-01 12:31:28  RT @toshoiii: @hukbaeg2 무슨 손흥민은 사실 중국의 자손이다 그런...   \n",
       "2 2021-02-01 12:24:34  부산\\n동영상\\n스타킹축구\\n마사지 \\n인천\\n축구선수\\n아줌마\\n대구\\n소개팅\\n...   \n",
       "3 2021-02-01 12:20:47  부산\\n동영상\\n스타킹축구\\n마사지 \\n인천\\n축구선수\\n아줌마\\n대구\\n소개팅\\n...   \n",
       "4 2021-02-01 12:15:36  #축구 #축구트친소 #국대트친소 #축덕 #축구덕질 #축구굿즈 #국대 #손흥민 #이승...   \n",
       "\n",
       "                                             ko_text  \\\n",
       "0    보유국뉴스보니 보유국이 뜨거웠네요국민 시민 한분 한분 보유국손흥민김연아류현진봉준...   \n",
       "1                  무슨 손흥민은 사실 중국의 자손이다 그런 주장을 했었더라고요   \n",
       "2  부산동영상스타킹축구마사지 인천축구선수아줌마대구소개팅마산만남앱만남어플경주야동울산딸딸이...   \n",
       "3  부산동영상스타킹축구마사지 인천축구선수아줌마대구소개팅마산만남앱만남어플경주야동울산딸딸이...   \n",
       "4  축구 축구트친소 국대트친소 축덕 축구덕질 축구굿즈 국대 손흥민 이승우 이강인 황의조...   \n",
       "\n",
       "                                               nouns  \n",
       "0  [보유, 뉴스, 보유, 국민, 시민, 보유, 손흥민, 김연아, 류현진, 봉준호, 택...  \n",
       "1                              [손흥민, 사실, 중국, 자손, 주장]  \n",
       "2  [부산, 동영상, 스타킹, 축구, 마사지, 인천, 축구선수, 아줌마, 대구, 소개팅...  \n",
       "3  [부산, 동영상, 스타킹, 축구, 마사지, 인천, 축구선수, 아줌마, 대구, 소개팅...  \n",
       "4  [축구, 축구, 트친소, 트친소, 축덕, 축구, 덕질, 축구, 손흥민, 이승우, 이...  "
      ],
      "text/html": "<div>\n<style scoped>\n    .dataframe tbody tr th:only-of-type {\n        vertical-align: middle;\n    }\n\n    .dataframe tbody tr th {\n        vertical-align: top;\n    }\n\n    .dataframe thead th {\n        text-align: right;\n    }\n</style>\n<table border=\"1\" class=\"dataframe\">\n  <thead>\n    <tr style=\"text-align: right;\">\n      <th></th>\n      <th>created</th>\n      <th>tweet_text</th>\n      <th>ko_text</th>\n      <th>nouns</th>\n    </tr>\n  </thead>\n  <tbody>\n    <tr>\n      <th>0</th>\n      <td>2021-02-01 12:31:41</td>\n      <td>RT @Park_Youngsun: &amp;lt;보유국&amp;gt;\\n뉴스보니 ‘보유국’이 뜨거...</td>\n      <td>보유국뉴스보니 보유국이 뜨거웠네요국민 시민 한분 한분 보유국손흥민김연아류현진봉준...</td>\n      <td>[보유, 뉴스, 보유, 국민, 시민, 보유, 손흥민, 김연아, 류현진, 봉준호, 택...</td>\n    </tr>\n    <tr>\n      <th>1</th>\n      <td>2021-02-01 12:31:28</td>\n      <td>RT @toshoiii: @hukbaeg2 무슨 손흥민은 사실 중국의 자손이다 그런...</td>\n      <td>무슨 손흥민은 사실 중국의 자손이다 그런 주장을 했었더라고요</td>\n      <td>[손흥민, 사실, 중국, 자손, 주장]</td>\n    </tr>\n    <tr>\n      <th>2</th>\n      <td>2021-02-01 12:24:34</td>\n      <td>부산\\n동영상\\n스타킹축구\\n마사지 \\n인천\\n축구선수\\n아줌마\\n대구\\n소개팅\\n...</td>\n      <td>부산동영상스타킹축구마사지 인천축구선수아줌마대구소개팅마산만남앱만남어플경주야동울산딸딸이...</td>\n      <td>[부산, 동영상, 스타킹, 축구, 마사지, 인천, 축구선수, 아줌마, 대구, 소개팅...</td>\n    </tr>\n    <tr>\n      <th>3</th>\n      <td>2021-02-01 12:20:47</td>\n      <td>부산\\n동영상\\n스타킹축구\\n마사지 \\n인천\\n축구선수\\n아줌마\\n대구\\n소개팅\\n...</td>\n      <td>부산동영상스타킹축구마사지 인천축구선수아줌마대구소개팅마산만남앱만남어플경주야동울산딸딸이...</td>\n      <td>[부산, 동영상, 스타킹, 축구, 마사지, 인천, 축구선수, 아줌마, 대구, 소개팅...</td>\n    </tr>\n    <tr>\n      <th>4</th>\n      <td>2021-02-01 12:15:36</td>\n      <td>#축구 #축구트친소 #국대트친소 #축덕 #축구덕질 #축구굿즈 #국대 #손흥민 #이승...</td>\n      <td>축구 축구트친소 국대트친소 축덕 축구덕질 축구굿즈 국대 손흥민 이승우 이강인 황의조...</td>\n      <td>[축구, 축구, 트친소, 트친소, 축덕, 축구, 덕질, 축구, 손흥민, 이승우, 이...</td>\n    </tr>\n  </tbody>\n</table>\n</div>"
     },
     "metadata": {},
     "execution_count": 8
    }
   ],
   "source": [
    "from konlpy.tag import Okt\n",
    "from collections import Counter\n",
    "\n",
    "korean_stopwords_path = '/Users/tuan/Documents/Python/python-data-analysis-master/data/korean_stopwords.txt'\n",
    "with open(korean_stopwords_path, encoding = 'utf8') as f:\n",
    "    stopwords = f.readlines()\n",
    "stopwords = [x.strip() for x in stopwords]\n",
    "\n",
    "def get_nouns(x):\n",
    "    nouns_tagger = Okt()\n",
    "    nouns = nouns_tagger.nouns(x)\n",
    "\n",
    "    # 한글자 키워드 제거\n",
    "    nouns = [noun for noun in nouns if len(noun) > 1]\n",
    "\n",
    "    # 불용어 제거\n",
    "    nouns = [noun for noun in nouns if noun not in stopwords]\n",
    "\n",
    "    return nouns \n",
    "    \n",
    "df['nouns'] = df['ko_text'].apply(lambda x : get_nouns(x))\n",
    "print(df.shape)\n",
    "df.head()"
   ]
  },
  {
   "cell_type": "code",
   "execution_count": null,
   "metadata": {},
   "outputs": [],
   "source": []
  }
 ]
}